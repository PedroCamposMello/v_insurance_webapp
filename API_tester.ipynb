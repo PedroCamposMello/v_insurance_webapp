{
 "cells": [
  {
   "cell_type": "code",
   "execution_count": 27,
   "metadata": {},
   "outputs": [],
   "source": [
    "import pandas as pd\n",
    "import json\n",
    "import requests"
   ]
  },
  {
   "cell_type": "code",
   "execution_count": null,
   "metadata": {},
   "outputs": [],
   "source": [
    "df_test = pd.read_csv( '../../data/production.csv', low_memory=False )"
   ]
  },
  {
   "cell_type": "code",
   "execution_count": null,
   "metadata": {},
   "outputs": [],
   "source": [
    "# Seleção dos clientes para coleta de score\n",
    "df_test = df_test[df_test['id'].isin( [381110, 381111, 381112] )]"
   ]
  },
  {
   "cell_type": "code",
   "execution_count": null,
   "metadata": {},
   "outputs": [],
   "source": [
    "# Conversão do Dataframe para json\n",
    "data = json.dumps( df_test.to_dict( orient='records' ) )"
   ]
  },
  {
   "cell_type": "code",
   "execution_count": 31,
   "metadata": {},
   "outputs": [
    {
     "name": "stdout",
     "output_type": "stream",
     "text": [
      "Status Code 200\n"
     ]
    }
   ],
   "source": [
    "# API Call\n",
    "url = 'https://vinsurancewebapp-production.up.railway.app/vinsurance/predict'\n",
    "header = {'Content-type': 'application/json' } \n",
    "data = data\n",
    "\n",
    "r = requests.post( url, data=data, headers=header )\n",
    "print( 'Status Code {}'.format( r.status_code ) )"
   ]
  },
  {
   "cell_type": "code",
   "execution_count": 32,
   "metadata": {},
   "outputs": [],
   "source": [
    "d1 = pd.DataFrame( r.json(), columns=r.json()[0].keys() )"
   ]
  },
  {
   "cell_type": "code",
   "execution_count": null,
   "metadata": {},
   "outputs": [
    {
     "name": "stdout",
     "output_type": "stream",
     "text": [
      "Customer id 381110 probability of been interested in vihcle inssurance is 0.003\n",
      "Customer id 381111 probability of been interested in vihcle inssurance is 0.238\n",
      "Customer id 381112 probability of been interested in vihcle inssurance is 0.413\n"
     ]
    }
   ],
   "source": [
    "d2 = d1[['id', 'score']]\n",
    "\n",
    "for i in range( len( d2 ) ):\n",
    "    print( 'Probability of customer ID {} being interested in purchasing vehicle insurance is {:,.3f}'.format( \n",
    "                                                                                                 d2.loc[i, 'id'], \n",
    "                                                                                                 d2.loc[i, 'score'] ) )"
   ]
  }
 ],
 "metadata": {
  "kernelspec": {
   "display_name": "h_in",
   "language": "python",
   "name": "python3"
  },
  "language_info": {
   "codemirror_mode": {
    "name": "ipython",
    "version": 3
   },
   "file_extension": ".py",
   "mimetype": "text/x-python",
   "name": "python",
   "nbconvert_exporter": "python",
   "pygments_lexer": "ipython3",
   "version": "3.11.13"
  }
 },
 "nbformat": 4,
 "nbformat_minor": 2
}
